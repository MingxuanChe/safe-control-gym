{
 "cells": [
  {
   "cell_type": "code",
   "execution_count": 4,
   "metadata": {},
   "outputs": [
    {
     "name": "stdout",
     "output_type": "stream",
     "text": [
      "/home/mingxuan/Repositories/scg_tsung/benchmarking_sim/quadrotor/plotting\n"
     ]
    }
   ],
   "source": [
    "import numpy as np\n",
    "import matplotlib.pyplot as plt\n",
    "import os\n",
    "print(os.getcwd())"
   ]
  },
  {
   "cell_type": "code",
   "execution_count": 5,
   "metadata": {},
   "outputs": [],
   "source": [
    "def moving_average(x, w):\n",
    "    return np.convolve(x, np.ones(w) / w, mode='valid')\n",
    "    \n",
    "def load_from_log_file(path):\n",
    "    '''Return x, y sequence data from the stat csv.'''\n",
    "    with open(path, 'r') as f:\n",
    "        lines = f.readlines()\n",
    "    # Labels.\n",
    "    xk, yk = [k.strip() for k in lines[0].strip().split(',')]\n",
    "    # Values.\n",
    "    x, y = [], []\n",
    "    for line in lines[1:]:\n",
    "        data = line.strip().split(',')\n",
    "        x.append(float(data[0].strip()))\n",
    "        y.append(float(data[1].strip()))\n",
    "    x = np.array(x)\n",
    "    y = np.array(y)\n",
    "    return xk, x, yk, y"
   ]
  },
  {
   "cell_type": "code",
   "execution_count": 19,
   "metadata": {},
   "outputs": [
    {
     "name": "stdout",
     "output_type": "stream",
     "text": [
      "DPPO\n"
     ]
    }
   ],
   "source": [
    "\n",
    "seeds = [i for i in range(0,5)]\n",
    "\n",
    "data_paths = {\n",
    "            # \"PPO\": \"/home/mingxuan/Repositories/scg_tsung/benchmarking_sim/quadrotor/data/quadrotor_2D_attitude_ppo_data8/\",\n",
    "            # \"PPO\": \"/home/mingxuan/Repositories/scg_tsung/benchmarking_sim/quadrotor/data/quadrotor_2D_attitude_ppo_data4/\",\n",
    "            # \"SAC\": \"/home/mingxuan/Repositories/scg_tsung/benchmarking_sim/quadrotor/data/quadrotor_2D_attitude_sac_data/\",\n",
    "            # \"DPPO\": \"/home/mingxuan/Repositories/scg_tsung/benchmarking_sim/quadrotor/data/quadrotor_2D_attitude_dppo_data8/\",\n",
    "            # \"DPPO\": \"/home/mingxuan/Repositories/scg_tsung/benchmarking_sim/quadrotor/data/quadrotor_2D_attitude_dppo_data6/\",\n",
    "            # \"PPO\": \"/home/mingxuan/Repositories/scg_tsung/benchmarking_sim/quadrotor/data/quadrotor_3D_attitude_ppo_data/\",\n",
    "            \"DPPO\": \"/home/mingxuan/Repositories/scg_tsung/benchmarking_sim/quadrotor/data/quadrotor_3D_attitude_dppo_data/\",\n",
    "}\n",
    "\n",
    "perf_data = {}\n",
    "for method in data_paths.keys():\n",
    "    print(method)\n",
    "    perf_data.update({method: {}})\n",
    "    for seed in seeds:\n",
    "        # print(data_paths[method] + str(seed) + \"/logs/stat_eval/ep_length.log\")\n",
    "        path = data_paths[method] + str(seed) + \"/temp/\"\n",
    "        temp = [x for x in os.listdir(path)]\n",
    "        xk, x, lk, l = load_from_log_file(data_paths[method] + str(seed) + \"/temp/\"+temp[0]+\"/logs/stat_eval/ep_length.log\")\n",
    "        xk, x, yk, y = load_from_log_file(data_paths[method] + str(seed) + \"/temp/\"+temp[0]+\"/logs/stat_eval/ep_return.log\")\n",
    "        xk, x, zk, z = load_from_log_file(data_paths[method] + str(seed) + \"/temp/\"+temp[0]+\"/logs/stat_eval/ep_return_std.log\")\n",
    "        # xk, x, ck, c = load_from_log_file(data_paths[method] + str(seed) + \"/logs/stat_eval/constraint_violation.log\")\n",
    "        # perf_data[method].update({seed: {\"x\": x, \"y\": y, \"c\": c}})\n",
    "        # perf_data[method].update({seed: {\"x\": x, \"y\": y, \"z\": z, \"c\": c}})\n",
    "        xk, x, yk, m = load_from_log_file(data_paths[method] + str(seed) + \"/temp/\"+temp[0]+\"/logs/stat_eval/rmse.log\")\n",
    "        xk, x, yk, n = load_from_log_file(data_paths[method] + str(seed) + \"/temp/\"+temp[0]+\"/logs/stat_eval/rmse_std.log\")\n",
    "        # perf_data[method].update({\"x\": x, \"y\": y, \"z\": z, \"x1\": x1, \"y1\": y1, \"z1\": z1})\n",
    "        perf_data[method].update({seed: {\"x\": x, \"y\": y, \"z\": z, \"m\": m, \"n\": n, \"l\": l}})"
   ]
  },
  {
   "cell_type": "code",
   "execution_count": 24,
   "metadata": {},
   "outputs": [
    {
     "name": "stdout",
     "output_type": "stream",
     "text": [
      "DPPO\n"
     ]
    },
    {
     "ename": "FileNotFoundError",
     "evalue": "[Errno 2] No such file or directory: '/home/mingxuan/Repositories/scg_tsung/benchmarking_sim/quadrotor/data/quadrotor_3D_attitude_dppo_data/0/temp/*/transfer_metric_9.npy'",
     "output_type": "error",
     "traceback": [
      "\u001b[0;31m---------------------------------------------------------------------------\u001b[0m",
      "\u001b[0;31mFileNotFoundError\u001b[0m                         Traceback (most recent call last)",
      "Cell \u001b[0;32mIn[24], line 11\u001b[0m\n\u001b[1;32m      9\u001b[0m path \u001b[38;5;241m=\u001b[39m data_paths[method] \u001b[38;5;241m+\u001b[39m \u001b[38;5;28mstr\u001b[39m(seed) \u001b[38;5;241m+\u001b[39m \u001b[38;5;124m\"\u001b[39m\u001b[38;5;124m/temp/\u001b[39m\u001b[38;5;124m\"\u001b[39m\n\u001b[1;32m     10\u001b[0m temp \u001b[38;5;241m=\u001b[39m [x \u001b[38;5;28;01mfor\u001b[39;00m x \u001b[38;5;129;01min\u001b[39;00m os\u001b[38;5;241m.\u001b[39mlistdir(path)]\n\u001b[0;32m---> 11\u001b[0m temp \u001b[38;5;241m=\u001b[39m \u001b[43mnp\u001b[49m\u001b[38;5;241;43m.\u001b[39;49m\u001b[43mload\u001b[49m\u001b[43m(\u001b[49m\u001b[43mdata_paths\u001b[49m\u001b[43m[\u001b[49m\u001b[43mmethod\u001b[49m\u001b[43m]\u001b[49m\u001b[43m \u001b[49m\u001b[38;5;241;43m+\u001b[39;49m\u001b[43m \u001b[49m\u001b[38;5;28;43mstr\u001b[39;49m\u001b[43m(\u001b[49m\u001b[43mseed\u001b[49m\u001b[43m)\u001b[49m\u001b[43m \u001b[49m\u001b[38;5;241;43m+\u001b[39;49m\u001b[38;5;124;43m\"\u001b[39;49m\u001b[38;5;124;43m/temp/*/transfer_metric_\u001b[39;49m\u001b[38;5;124;43m\"\u001b[39;49m\u001b[38;5;241;43m+\u001b[39;49m\u001b[38;5;28;43mstr\u001b[39;49m\u001b[43m(\u001b[49m\u001b[43mT\u001b[49m\u001b[43m)\u001b[49m\u001b[38;5;241;43m+\u001b[39;49m\u001b[38;5;124;43m\"\u001b[39;49m\u001b[38;5;124;43m.npy\u001b[39;49m\u001b[38;5;124;43m\"\u001b[39;49m\u001b[43m,\u001b[49m\u001b[43m \u001b[49m\u001b[43mallow_pickle\u001b[49m\u001b[38;5;241;43m=\u001b[39;49m\u001b[38;5;28;43;01mTrue\u001b[39;49;00m\u001b[43m)\u001b[49m\u001b[38;5;241m.\u001b[39mitem()\n\u001b[1;32m     12\u001b[0m rmse\u001b[38;5;241m.\u001b[39mappend(temp[\u001b[38;5;124m'\u001b[39m\u001b[38;5;124mrmse\u001b[39m\u001b[38;5;124m'\u001b[39m])\n\u001b[1;32m     13\u001b[0m rmse_std\u001b[38;5;241m.\u001b[39mappend(temp[\u001b[38;5;124m'\u001b[39m\u001b[38;5;124mrmse_std\u001b[39m\u001b[38;5;124m'\u001b[39m])\n",
      "File \u001b[0;32m~/miniconda3/envs/safe/lib/python3.10/site-packages/numpy/lib/npyio.py:427\u001b[0m, in \u001b[0;36mload\u001b[0;34m(file, mmap_mode, allow_pickle, fix_imports, encoding, max_header_size)\u001b[0m\n\u001b[1;32m    425\u001b[0m     own_fid \u001b[38;5;241m=\u001b[39m \u001b[38;5;28;01mFalse\u001b[39;00m\n\u001b[1;32m    426\u001b[0m \u001b[38;5;28;01melse\u001b[39;00m:\n\u001b[0;32m--> 427\u001b[0m     fid \u001b[38;5;241m=\u001b[39m stack\u001b[38;5;241m.\u001b[39menter_context(\u001b[38;5;28;43mopen\u001b[39;49m\u001b[43m(\u001b[49m\u001b[43mos_fspath\u001b[49m\u001b[43m(\u001b[49m\u001b[43mfile\u001b[49m\u001b[43m)\u001b[49m\u001b[43m,\u001b[49m\u001b[43m \u001b[49m\u001b[38;5;124;43m\"\u001b[39;49m\u001b[38;5;124;43mrb\u001b[39;49m\u001b[38;5;124;43m\"\u001b[39;49m\u001b[43m)\u001b[49m)\n\u001b[1;32m    428\u001b[0m     own_fid \u001b[38;5;241m=\u001b[39m \u001b[38;5;28;01mTrue\u001b[39;00m\n\u001b[1;32m    430\u001b[0m \u001b[38;5;66;03m# Code to distinguish from NumPy binary files and pickles.\u001b[39;00m\n",
      "\u001b[0;31mFileNotFoundError\u001b[0m: [Errno 2] No such file or directory: '/home/mingxuan/Repositories/scg_tsung/benchmarking_sim/quadrotor/data/quadrotor_3D_attitude_dppo_data/0/temp/*/transfer_metric_9.npy'"
     ]
    }
   ],
   "source": [
    "episode_len_list = [9, 10, 11, 12, 13, 14, 15]\n",
    "transfer_metric = {}\n",
    "for method in data_paths.keys():\n",
    "    print(method)\n",
    "    transfer_metric.update({method: {'rmse': [], 'rmse_std': []}})\n",
    "    for T in episode_len_list:\n",
    "        rmse, rmse_std = [], []\n",
    "        for seed in [0]:\n",
    "            path = data_paths[method] + str(seed) + \"/temp/\"\n",
    "            temp = [x for x in os.listdir(path)]\n",
    "            temp = np.load(data_paths[method] + str(seed) +\"/temp/*/transfer_metric_\"+str(T)+\".npy\", allow_pickle=True).item()\n",
    "            rmse.append(temp['rmse'])\n",
    "            rmse_std.append(temp['rmse_std'])\n",
    "        transfer_metric[method]['rmse'].append(np.array(rmse).mean())\n",
    "        transfer_metric[method]['rmse_std'].append(np.array(rmse_std).mean())\n",
    "    transfer_metric[method]['rmse'] = np.array(transfer_metric[method]['rmse'])\n",
    "    transfer_metric[method]['rmse_std'] = np.array(transfer_metric[method]['rmse_std'])"
   ]
  }
 ],
 "metadata": {
  "kernelspec": {
   "display_name": "safe",
   "language": "python",
   "name": "python3"
  },
  "language_info": {
   "codemirror_mode": {
    "name": "ipython",
    "version": 3
   },
   "file_extension": ".py",
   "mimetype": "text/x-python",
   "name": "python",
   "nbconvert_exporter": "python",
   "pygments_lexer": "ipython3",
   "version": "3.10.14"
  }
 },
 "nbformat": 4,
 "nbformat_minor": 2
}
