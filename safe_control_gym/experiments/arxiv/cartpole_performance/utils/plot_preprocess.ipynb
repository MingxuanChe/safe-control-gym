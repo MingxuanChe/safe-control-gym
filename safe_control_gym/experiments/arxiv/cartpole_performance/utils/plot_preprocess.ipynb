{
 "cells": [
  {
   "cell_type": "code",
   "execution_count": 113,
   "metadata": {},
   "outputs": [],
   "source": [
    "import numpy as np\n",
    "import os\n",
    "import sys\n",
    "import matplotlib.pyplot as plt\n",
    "from safe_control_gym.lyapunov.lyapunov import *\n",
    "from safe_control_gym.lyapunov.utilities import *\n",
    "from safe_control_gym.experiments.arxiv.utils.gpmpc_plotting_utils import *"
   ]
  },
  {
   "cell_type": "code",
   "execution_count": 114,
   "metadata": {},
   "outputs": [
    {
     "name": "stdout",
     "output_type": "stream",
     "text": [
      "Grid size: 327701\n",
      "Discretization constant (tau): 0.0\n"
     ]
    }
   ],
   "source": [
    "dim_grid = 4\n",
    "grid_constraints = np.array([0.5, 1.5, 1.57, 1.57])\n",
    "grid_constraints = np.vstack((-1 * grid_constraints, \\\n",
    "                                    grid_constraints)).T\n",
    "prec = [11, 31, 31, 31]\n",
    "grids = gridding(dim_grid, grid_constraints, prec)"
   ]
  },
  {
   "cell_type": "code",
   "execution_count": 115,
   "metadata": {},
   "outputs": [
    {
     "data": {
      "text/plain": [
       "'/home/mingxuan/Repositories/scg_mx/safe_control_gym/experiments/arxiv/cartpole_performance/utils'"
      ]
     },
     "execution_count": 115,
     "metadata": {},
     "output_type": "execute_result"
    }
   ],
   "source": [
    "notebook_dir = os.path.dirname(os.path.abspath('__file__'))\n",
    "notebook_dir"
   ]
  },
  {
   "cell_type": "code",
   "execution_count": 116,
   "metadata": {},
   "outputs": [
    {
     "data": {
      "text/plain": [
       "'/home/mingxuan/Repositories/scg_mx/safe_control_gym/experiments/arxiv/cartpole_performance/utils/../data/cartpole_data_eff/'"
      ]
     },
     "execution_count": 116,
     "metadata": {},
     "output_type": "execute_result"
    }
   ],
   "source": [
    "data_folder = '../data/cartpole_data_eff/'\n",
    "data_folder_path = os.path.join(notebook_dir, data_folder)\n",
    "data_folder_path"
   ]
  },
  {
   "cell_type": "code",
   "execution_count": 117,
   "metadata": {},
   "outputs": [
    {
     "data": {
      "text/plain": [
       "'/home/mingxuan/Repositories/scg_mx/safe_control_gym/experiments/arxiv/cartpole_performance/utils/../data/cartpole_data_eff/M_1400'"
      ]
     },
     "execution_count": 117,
     "metadata": {},
     "output_type": "execute_result"
    }
   ],
   "source": [
    "M = 1400\n",
    "M = 'M_{}'.format(M)\n",
    "data_folder_path_M_large = os.path.join(data_folder_path, M)\n",
    "data_folder_path_M_large"
   ]
  },
  {
   "cell_type": "code",
   "execution_count": 118,
   "metadata": {},
   "outputs": [
    {
     "data": {
      "text/plain": [
       "['data_epoch_9_init_315669_M_1.4_m_0.1_l_0.5_prec_11_31_31_31.npz',\n",
       " 'data_epoch_9_init_236973_M_1.4_m_0.1_l_0.5_prec_11_31_31_31.npz',\n",
       " 'data_epoch_9_init_304727_M_1.4_m_0.1_l_0.5_prec_11_31_31_31.npz',\n",
       " 'data_epoch_9_init_159120_M_1.4_m_0.1_l_0.5_prec_11_31_31_31.npz',\n",
       " 'data_epoch_9_init_14211_M_1.4_m_0.1_l_0.5_prec_11_31_31_31.npz',\n",
       " 'data_epoch_9_init_159008_M_1.4_m_0.1_l_0.5_prec_11_31_31_31.npz',\n",
       " 'data_epoch_9_init_179622_M_1.4_m_0.1_l_0.5_prec_11_31_31_31.npz',\n",
       " 'data_epoch_9_init_275583_M_1.4_m_0.1_l_0.5_prec_11_31_31_31.npz',\n",
       " 'data_epoch_9_init_287949_M_1.4_m_0.1_l_0.5_prec_11_31_31_31.npz',\n",
       " 'data_epoch_9_init_68364_M_1.4_m_0.1_l_0.5_prec_11_31_31_31.npz',\n",
       " 'data_epoch_9_init_165110_M_1.4_m_0.1_l_0.5_prec_11_31_31_31.npz',\n",
       " 'data_epoch_9_init_19416_M_1.4_m_0.1_l_0.5_prec_11_31_31_31.npz',\n",
       " 'data_epoch_9_init_179125_M_1.4_m_0.1_l_0.5_prec_11_31_31_31.npz',\n",
       " 'data_epoch_9_init_72309_M_1.4_m_0.1_l_0.5_prec_11_31_31_31.npz',\n",
       " 'data_epoch_9_init_18231_M_1.4_m_0.1_l_0.5_prec_11_31_31_31.npz',\n",
       " 'data_epoch_9_init_300644_M_1.4_m_0.1_l_0.5_prec_11_31_31_31.npz',\n",
       " 'data_epoch_9_init_126099_M_1.4_m_0.1_l_0.5_prec_11_31_31_31.npz',\n",
       " 'data_epoch_9_init_80815_M_1.4_m_0.1_l_0.5_prec_11_31_31_31.npz',\n",
       " 'data_epoch_9_init_59398_M_1.4_m_0.1_l_0.5_prec_11_31_31_31.npz',\n",
       " 'data_epoch_9_init_137180_M_1.4_m_0.1_l_0.5_prec_11_31_31_31.npz',\n",
       " 'data_epoch_9_init_12279_M_1.4_m_0.1_l_0.5_prec_11_31_31_31.npz',\n",
       " 'data_epoch_9_init_321581_M_1.4_m_0.1_l_0.5_prec_11_31_31_31.npz',\n",
       " 'data_epoch_9_init_270838_M_1.4_m_0.1_l_0.5_prec_11_31_31_31.npz',\n",
       " 'data_epoch_9_init_134478_M_1.4_m_0.1_l_0.5_prec_11_31_31_31.npz',\n",
       " 'data_epoch_9_init_228778_M_1.4_m_0.1_l_0.5_prec_11_31_31_31.npz']"
      ]
     },
     "execution_count": 118,
     "metadata": {},
     "output_type": "execute_result"
    }
   ],
   "source": [
    "data_name_list = os.listdir(data_folder_path_M_large)\n",
    "files = [filename for filename in data_name_list if filename.startswith('data_epoch_9')]\n",
    "files"
   ]
  },
  {
   "cell_type": "code",
   "execution_count": 119,
   "metadata": {},
   "outputs": [
    {
     "name": "stdout",
     "output_type": "stream",
     "text": [
      "[ 12279  14211  18231  19416  59398  68364  72309  80815 126099 134478\n",
      " 137180 159008 159120 165110 179125 179622 228778 236973 270838 275583\n",
      " 287949 300644 304727 315669 321581]\n",
      "valid init state num: 25\n"
     ]
    }
   ],
   "source": [
    "init_state_idx = []\n",
    "for filename in files:\n",
    "    # split the filename to get the init state index\n",
    "    init_state_idx.append(int(filename.split('init_')[-1].split('_M')[0]))\n",
    "sorted_init_state_idx = np.sort(init_state_idx)\n",
    "print(sorted_init_state_idx)\n",
    "print('valid init state num:', len(sorted_init_state_idx))"
   ]
  },
  {
   "cell_type": "code",
   "execution_count": 120,
   "metadata": {},
   "outputs": [
    {
     "data": {
      "text/plain": [
       "[NpzFile '/home/mingxuan/Repositories/scg_mx/safe_control_gym/experiments/arxiv/cartpole_performance/utils/../data/cartpole_data_eff/M_1400/data_epoch_9_init_315669_M_1.4_m_0.1_l_0.5_prec_11_31_31_31.npz' with keys: train_runs, test_runs, num_epochs, num_train_episodes_per_epoch, num_test_episodes_per_epoch...,\n",
       " NpzFile '/home/mingxuan/Repositories/scg_mx/safe_control_gym/experiments/arxiv/cartpole_performance/utils/../data/cartpole_data_eff/M_1400/data_epoch_9_init_236973_M_1.4_m_0.1_l_0.5_prec_11_31_31_31.npz' with keys: train_runs, test_runs, num_epochs, num_train_episodes_per_epoch, num_test_episodes_per_epoch...,\n",
       " NpzFile '/home/mingxuan/Repositories/scg_mx/safe_control_gym/experiments/arxiv/cartpole_performance/utils/../data/cartpole_data_eff/M_1400/data_epoch_9_init_304727_M_1.4_m_0.1_l_0.5_prec_11_31_31_31.npz' with keys: train_runs, test_runs, num_epochs, num_train_episodes_per_epoch, num_test_episodes_per_epoch...,\n",
       " NpzFile '/home/mingxuan/Repositories/scg_mx/safe_control_gym/experiments/arxiv/cartpole_performance/utils/../data/cartpole_data_eff/M_1400/data_epoch_9_init_159120_M_1.4_m_0.1_l_0.5_prec_11_31_31_31.npz' with keys: train_runs, test_runs, num_epochs, num_train_episodes_per_epoch, num_test_episodes_per_epoch...,\n",
       " NpzFile '/home/mingxuan/Repositories/scg_mx/safe_control_gym/experiments/arxiv/cartpole_performance/utils/../data/cartpole_data_eff/M_1400/data_epoch_9_init_14211_M_1.4_m_0.1_l_0.5_prec_11_31_31_31.npz' with keys: train_runs, test_runs, num_epochs, num_train_episodes_per_epoch, num_test_episodes_per_epoch...,\n",
       " NpzFile '/home/mingxuan/Repositories/scg_mx/safe_control_gym/experiments/arxiv/cartpole_performance/utils/../data/cartpole_data_eff/M_1400/data_epoch_9_init_159008_M_1.4_m_0.1_l_0.5_prec_11_31_31_31.npz' with keys: train_runs, test_runs, num_epochs, num_train_episodes_per_epoch, num_test_episodes_per_epoch...,\n",
       " NpzFile '/home/mingxuan/Repositories/scg_mx/safe_control_gym/experiments/arxiv/cartpole_performance/utils/../data/cartpole_data_eff/M_1400/data_epoch_9_init_179622_M_1.4_m_0.1_l_0.5_prec_11_31_31_31.npz' with keys: train_runs, test_runs, num_epochs, num_train_episodes_per_epoch, num_test_episodes_per_epoch...,\n",
       " NpzFile '/home/mingxuan/Repositories/scg_mx/safe_control_gym/experiments/arxiv/cartpole_performance/utils/../data/cartpole_data_eff/M_1400/data_epoch_9_init_275583_M_1.4_m_0.1_l_0.5_prec_11_31_31_31.npz' with keys: train_runs, test_runs, num_epochs, num_train_episodes_per_epoch, num_test_episodes_per_epoch...,\n",
       " NpzFile '/home/mingxuan/Repositories/scg_mx/safe_control_gym/experiments/arxiv/cartpole_performance/utils/../data/cartpole_data_eff/M_1400/data_epoch_9_init_287949_M_1.4_m_0.1_l_0.5_prec_11_31_31_31.npz' with keys: train_runs, test_runs, num_epochs, num_train_episodes_per_epoch, num_test_episodes_per_epoch...,\n",
       " NpzFile '/home/mingxuan/Repositories/scg_mx/safe_control_gym/experiments/arxiv/cartpole_performance/utils/../data/cartpole_data_eff/M_1400/data_epoch_9_init_68364_M_1.4_m_0.1_l_0.5_prec_11_31_31_31.npz' with keys: train_runs, test_runs, num_epochs, num_train_episodes_per_epoch, num_test_episodes_per_epoch...,\n",
       " NpzFile '/home/mingxuan/Repositories/scg_mx/safe_control_gym/experiments/arxiv/cartpole_performance/utils/../data/cartpole_data_eff/M_1400/data_epoch_9_init_165110_M_1.4_m_0.1_l_0.5_prec_11_31_31_31.npz' with keys: train_runs, test_runs, num_epochs, num_train_episodes_per_epoch, num_test_episodes_per_epoch...,\n",
       " NpzFile '/home/mingxuan/Repositories/scg_mx/safe_control_gym/experiments/arxiv/cartpole_performance/utils/../data/cartpole_data_eff/M_1400/data_epoch_9_init_19416_M_1.4_m_0.1_l_0.5_prec_11_31_31_31.npz' with keys: train_runs, test_runs, num_epochs, num_train_episodes_per_epoch, num_test_episodes_per_epoch...,\n",
       " NpzFile '/home/mingxuan/Repositories/scg_mx/safe_control_gym/experiments/arxiv/cartpole_performance/utils/../data/cartpole_data_eff/M_1400/data_epoch_9_init_179125_M_1.4_m_0.1_l_0.5_prec_11_31_31_31.npz' with keys: train_runs, test_runs, num_epochs, num_train_episodes_per_epoch, num_test_episodes_per_epoch...,\n",
       " NpzFile '/home/mingxuan/Repositories/scg_mx/safe_control_gym/experiments/arxiv/cartpole_performance/utils/../data/cartpole_data_eff/M_1400/data_epoch_9_init_72309_M_1.4_m_0.1_l_0.5_prec_11_31_31_31.npz' with keys: train_runs, test_runs, num_epochs, num_train_episodes_per_epoch, num_test_episodes_per_epoch...,\n",
       " NpzFile '/home/mingxuan/Repositories/scg_mx/safe_control_gym/experiments/arxiv/cartpole_performance/utils/../data/cartpole_data_eff/M_1400/data_epoch_9_init_18231_M_1.4_m_0.1_l_0.5_prec_11_31_31_31.npz' with keys: train_runs, test_runs, num_epochs, num_train_episodes_per_epoch, num_test_episodes_per_epoch...,\n",
       " NpzFile '/home/mingxuan/Repositories/scg_mx/safe_control_gym/experiments/arxiv/cartpole_performance/utils/../data/cartpole_data_eff/M_1400/data_epoch_9_init_300644_M_1.4_m_0.1_l_0.5_prec_11_31_31_31.npz' with keys: train_runs, test_runs, num_epochs, num_train_episodes_per_epoch, num_test_episodes_per_epoch...,\n",
       " NpzFile '/home/mingxuan/Repositories/scg_mx/safe_control_gym/experiments/arxiv/cartpole_performance/utils/../data/cartpole_data_eff/M_1400/data_epoch_9_init_126099_M_1.4_m_0.1_l_0.5_prec_11_31_31_31.npz' with keys: train_runs, test_runs, num_epochs, num_train_episodes_per_epoch, num_test_episodes_per_epoch...,\n",
       " NpzFile '/home/mingxuan/Repositories/scg_mx/safe_control_gym/experiments/arxiv/cartpole_performance/utils/../data/cartpole_data_eff/M_1400/data_epoch_9_init_80815_M_1.4_m_0.1_l_0.5_prec_11_31_31_31.npz' with keys: train_runs, test_runs, num_epochs, num_train_episodes_per_epoch, num_test_episodes_per_epoch...,\n",
       " NpzFile '/home/mingxuan/Repositories/scg_mx/safe_control_gym/experiments/arxiv/cartpole_performance/utils/../data/cartpole_data_eff/M_1400/data_epoch_9_init_59398_M_1.4_m_0.1_l_0.5_prec_11_31_31_31.npz' with keys: train_runs, test_runs, num_epochs, num_train_episodes_per_epoch, num_test_episodes_per_epoch...,\n",
       " NpzFile '/home/mingxuan/Repositories/scg_mx/safe_control_gym/experiments/arxiv/cartpole_performance/utils/../data/cartpole_data_eff/M_1400/data_epoch_9_init_137180_M_1.4_m_0.1_l_0.5_prec_11_31_31_31.npz' with keys: train_runs, test_runs, num_epochs, num_train_episodes_per_epoch, num_test_episodes_per_epoch...,\n",
       " NpzFile '/home/mingxuan/Repositories/scg_mx/safe_control_gym/experiments/arxiv/cartpole_performance/utils/../data/cartpole_data_eff/M_1400/data_epoch_9_init_12279_M_1.4_m_0.1_l_0.5_prec_11_31_31_31.npz' with keys: train_runs, test_runs, num_epochs, num_train_episodes_per_epoch, num_test_episodes_per_epoch...,\n",
       " NpzFile '/home/mingxuan/Repositories/scg_mx/safe_control_gym/experiments/arxiv/cartpole_performance/utils/../data/cartpole_data_eff/M_1400/data_epoch_9_init_321581_M_1.4_m_0.1_l_0.5_prec_11_31_31_31.npz' with keys: train_runs, test_runs, num_epochs, num_train_episodes_per_epoch, num_test_episodes_per_epoch...,\n",
       " NpzFile '/home/mingxuan/Repositories/scg_mx/safe_control_gym/experiments/arxiv/cartpole_performance/utils/../data/cartpole_data_eff/M_1400/data_epoch_9_init_270838_M_1.4_m_0.1_l_0.5_prec_11_31_31_31.npz' with keys: train_runs, test_runs, num_epochs, num_train_episodes_per_epoch, num_test_episodes_per_epoch...,\n",
       " NpzFile '/home/mingxuan/Repositories/scg_mx/safe_control_gym/experiments/arxiv/cartpole_performance/utils/../data/cartpole_data_eff/M_1400/data_epoch_9_init_134478_M_1.4_m_0.1_l_0.5_prec_11_31_31_31.npz' with keys: train_runs, test_runs, num_epochs, num_train_episodes_per_epoch, num_test_episodes_per_epoch...,\n",
       " NpzFile '/home/mingxuan/Repositories/scg_mx/safe_control_gym/experiments/arxiv/cartpole_performance/utils/../data/cartpole_data_eff/M_1400/data_epoch_9_init_228778_M_1.4_m_0.1_l_0.5_prec_11_31_31_31.npz' with keys: train_runs, test_runs, num_epochs, num_train_episodes_per_epoch, num_test_episodes_per_epoch...]"
      ]
     },
     "execution_count": 120,
     "metadata": {},
     "output_type": "execute_result"
    }
   ],
   "source": [
    "# only load the file with the state index in the sorted_init_state_idx\n",
    "raw_data = []\n",
    "for filename in files:\n",
    "    init_idx = int(filename.split('init_')[-1].split('_M')[0])\n",
    "    if init_idx in sorted_init_state_idx:\n",
    "        raw_data.append(np.load(os.path.join(data_folder_path_M_large, filename), allow_pickle=True))\n",
    "raw_data"
   ]
  },
  {
   "cell_type": "code",
   "execution_count": 121,
   "metadata": {},
   "outputs": [],
   "source": [
    "test_runs = [raw_data[i]['test_runs'].item() for i in range(len(raw_data))]\n",
    "train_runs = [raw_data[i]['train_runs'].item() for i in range(len(raw_data))]"
   ]
  },
  {
   "cell_type": "code",
   "execution_count": 122,
   "metadata": {},
   "outputs": [
    {
     "name": "stdout",
     "output_type": "stream",
     "text": [
      "num_epochs: 10\n",
      "num_points_per_epoch: [0, 338, 613, 873, 1253, 1538, 1918, 2298, 2483, 2863]\n"
     ]
    }
   ],
   "source": [
    "# test_runs\n",
    "num_points_per_epoch = []  # number of training points\n",
    "# Compute the number of training points (x-axis for most figures).\n",
    "num_epochs = len(train_runs[0])\n",
    "print('num_epochs:', num_epochs)\n",
    "num_points = 0\n",
    "num_points_per_epoch.append(num_points)\n",
    "for epoch in range(1, num_epochs):\n",
    "    num_train_episodes = len(train_runs[1][epoch])\n",
    "    for episode in range(num_train_episodes):\n",
    "        num_points += train_runs[1][epoch][episode]['obs'].shape[0]\n",
    "    num_points_per_epoch.append(num_points) \n",
    "print('num_points_per_epoch:', num_points_per_epoch)"
   ]
  },
  {
   "cell_type": "code",
   "execution_count": 123,
   "metadata": {},
   "outputs": [
    {
     "name": "stdout",
     "output_type": "stream",
     "text": [
      "mean_cost: [61799.15299355 21401.84455319 19794.45748914 11292.88694477\n",
      "  8685.01400482  5740.69265641 10042.01954237  3639.45947898\n",
      "  4901.94859852  3341.01161997]\n",
      "std_cost: [64059.7927961  43484.06601042 30424.62668833 22743.3422333\n",
      " 17182.19939996  8661.34786975 26072.29500381  3035.26246771\n",
      "  7756.01424937  1735.70311494]\n"
     ]
    },
    {
     "data": {
      "text/plain": [
       "(0.0, 202730.69714496212)"
      ]
     },
     "execution_count": 123,
     "metadata": {},
     "output_type": "execute_result"
    },
    {
     "data": {
      "image/png": "[encoded data removed]",
      "text/plain": [
       "<Figure size 640x480 with 1 Axes>"
      ]
     },
     "metadata": {},
     "output_type": "display_data"
    }
   ],
   "source": [
    "s = 2 # times of std\n",
    "\n",
    "common_costs = [get_cost(test_runs[i]) for i in range(len(test_runs))]\n",
    "# num_points_per_epoch\n",
    "# common_costs\n",
    "\n",
    "mean_cost = np.mean(common_costs, axis=0)\n",
    "print('mean_cost:', mean_cost)\n",
    "std_cost = np.std(common_costs, axis=0)\n",
    "print('std_cost:', std_cost)\n",
    "x = num_points_per_epoch\n",
    "plt.plot(x, mean_cost, 'k-')\n",
    "plt.fill_between(x, mean_cost - s * std_cost, mean_cost + s * std_cost, alpha=0.5)\n",
    "# limit the y-axis above 0\n",
    "plt.ylim(0, None)"
   ]
  },
  {
   "cell_type": "code",
   "execution_count": 124,
   "metadata": {},
   "outputs": [],
   "source": [
    "# save the mean_cost and std_cost to a file under the notebook_dir\n",
    "np.savez('mean_std_cost_M_{}.npz'.format(M), mean_cost=mean_cost, std_cost=std_cost, num_points_per_epoch=num_points_per_epoch)"
   ]
  }
 ],
 "metadata": {
  "kernelspec": {
   "display_name": "safe",
   "language": "python",
   "name": "python3"
  },
  "language_info": {
   "codemirror_mode": {
    "name": "ipython",
    "version": 3
   },
   "file_extension": ".py",
   "mimetype": "text/x-python",
   "name": "python",
   "nbconvert_exporter": "python",
   "pygments_lexer": "ipython3",
   "version": "3.10.13"
  }
 },
 "nbformat": 4,
 "nbformat_minor": 2
}
