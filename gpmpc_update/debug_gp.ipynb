{
 "cells": [
  {
   "cell_type": "code",
   "execution_count": 7,
   "metadata": {},
   "outputs": [
    {
     "name": "stdout",
     "output_type": "stream",
     "text": [
      "The autoreload extension is already loaded. To reload it, use:\n",
      "  %reload_ext autoreload\n"
     ]
    }
   ],
   "source": [
    "import os\n",
    "import sys\n",
    "from functools import partial\n",
    "\n",
    "import yaml\n",
    "\n",
    "import matplotlib.pyplot as plt\n",
    "import numpy as np\n",
    "import casadi as cs\n",
    "\n",
    "from safe_control_gym.envs.benchmark_env import Environment, Task\n",
    "\n",
    "from safe_control_gym.hyperparameters.hpo import HPO\n",
    "from safe_control_gym.experiments.base_experiment import BaseExperiment\n",
    "from safe_control_gym.utils.configuration import ConfigFactory\n",
    "from safe_control_gym.utils.registration import make\n",
    "from safe_control_gym.utils.utils import set_device_from_config, set_dir_from_config, set_seed_from_config\n",
    "\n",
    "# autoreload\n",
    "%load_ext autoreload\n",
    "%autoreload 2"
   ]
  },
  {
   "cell_type": "code",
   "execution_count": 8,
   "metadata": {},
   "outputs": [],
   "source": [
    "def train(config):\n",
    "    \"\"\"Training for a given set of hyperparameters.\n",
    "\n",
    "    Usage:\n",
    "        * to start training, use with `--func train`.\n",
    "\n",
    "    \"\"\"\n",
    "\n",
    "MAIN_FUNCS = {'train': train}\n",
    "\n",
    "\n",
    "# Make config.\n",
    "# ALGO = 'gp_mpc'\n",
    "ALGO = 'gpmpc_acados'\n",
    "# SYS = 'cartpole'\n",
    "# TASK = 'stab'\n",
    "SYS = 'quadrotor_2D_attitude'\n",
    "TASK = 'track'\n",
    "PRIOR = '150'\n",
    "agent = 'quadrotor' if SYS == 'quadrotor_2D' or SYS == 'quadrotor_2D_attitude' else SYS\n",
    "# check if the config file exists\n",
    "assert os.path.exists(f'./{ALGO}/config_overrides/{SYS}/{SYS}_{TASK}.yaml'), f'./{ALGO}/config_overrides/{SYS}/{SYS}_{TASK}.yaml does not exist'\n",
    "assert os.path.exists(f'./{ALGO}/config_overrides/{SYS}/{ALGO}_{SYS}_{PRIOR}.yaml'), f'./{ALGO}/config_overrides/{SYS}/{ALGO}_{SYS}_{PRIOR}.yaml does not exist'\n",
    "sys.argv[1:] = ['--algo', ALGO,\n",
    "                '--task', agent,\n",
    "                '--overrides',\n",
    "                    f'./{ALGO}/config_overrides/{SYS}/{SYS}_{TASK}.yaml',\n",
    "                    f'./{ALGO}/config_overrides/{SYS}/{ALGO}_{SYS}_{PRIOR}.yaml',\n",
    "                '--seed', '2',\n",
    "                '--use_gpu', 'True',\n",
    "                '--output_dir', f'./{ALGO}/results',\n",
    "                    ]\n",
    "fac = ConfigFactory()\n",
    "fac.add_argument('--func', type=str, default='train', help='main function to run.')\n",
    "fac.add_argument('--n_episodes', type=int, default=1, help='number of episodes to run.')\n",
    "# merge config\n",
    "config = fac.merge()"
   ]
  },
  {
   "cell_type": "code",
   "execution_count": 9,
   "metadata": {},
   "outputs": [
    {
     "name": "stdout",
     "output_type": "stream",
     "text": [
      "=================Resetting MPC=================\n",
      "=================Resetting MPC=================\n",
      "=================Setting up acados optimizer=================\n",
      "Warning: Please note that the following versions of CasADi are officially supported: 3.4.03.4.5 or 3.5.1 or 3.5.2 or 3.5.3 or 3.5.4 or 3.5.6 or 3.5.5 or 3.6.0 or 3.6.1 or 3.6.2 or 3.6.3 or 3.6.4.\n",
      " If there is an incompatibility with the CasADi generated code, please consider changing your CasADi version.\n",
      "Version 3.6.5 currently in use.\n",
      "rm -f libacados_ocp_solver_quadrotor.so\n",
      "rm -f acados_solver_quadrotor.o\n",
      "cc -fPIC -std=c99   -O2 -I/home/mingxuan/Repositories/acados/include -I/home/mingxuan/Repositories/acados/include/acados -I/home/mingxuan/Repositories/acados/include/blasfeo/include -I/home/mingxuan/Repositories/acados/include/hpipm/include  -c -o acados_solver_quadrotor.o acados_solver_quadrotor.c\n",
      "cc -fPIC -std=c99   -O2 -I/home/mingxuan/Repositories/acados/include -I/home/mingxuan/Repositories/acados/include/acados -I/home/mingxuan/Repositories/acados/include/blasfeo/include -I/home/mingxuan/Repositories/acados/include/hpipm/include  -c -o quadrotor_model/quadrotor_dyn_disc_phi_fun.o quadrotor_model/quadrotor_dyn_disc_phi_fun.c\n",
      "cc -fPIC -std=c99   -O2 -I/home/mingxuan/Repositories/acados/include -I/home/mingxuan/Repositories/acados/include/acados -I/home/mingxuan/Repositories/acados/include/blasfeo/include -I/home/mingxuan/Repositories/acados/include/hpipm/include  -c -o quadrotor_model/quadrotor_dyn_disc_phi_fun_jac.o quadrotor_model/quadrotor_dyn_disc_phi_fun_jac.c\n",
      "cc -fPIC -std=c99   -O2 -I/home/mingxuan/Repositories/acados/include -I/home/mingxuan/Repositories/acados/include/acados -I/home/mingxuan/Repositories/acados/include/blasfeo/include -I/home/mingxuan/Repositories/acados/include/hpipm/include  -c -o quadrotor_model/quadrotor_dyn_disc_phi_fun_jac_hess.o quadrotor_model/quadrotor_dyn_disc_phi_fun_jac_hess.c\n",
      "cc -shared acados_solver_quadrotor.o quadrotor_model/quadrotor_dyn_disc_phi_fun.o quadrotor_model/quadrotor_dyn_disc_phi_fun_jac.o quadrotor_model/quadrotor_dyn_disc_phi_fun_jac_hess.o -o libacados_ocp_solver_quadrotor.so -L/home/mingxuan/Repositories/acados/lib -lacados -lhpipm -lblasfeo -lm  \\\n",
      "-L -l\n",
      "acados was compiled with OpenMP.\n",
      "=================Setting up acados optimizer=================\n",
      "=========== Resetting prior controller ===========\n",
      "=================Resetting MPC=================\n",
      "=================Setting up acados optimizer=================\n",
      "=========== Resetting prior controller ===========\n",
      "=================Resetting MPC=================\n",
      "=================Setting up acados optimizer=================\n",
      "=========== Resetting prior controller ===========\n",
      "=================Resetting MPC=================\n",
      "Loading GP models.\n",
      "================== GP models loaded. =================\n",
      "=================Setting up acados optimizer=================\n",
      "=========== Resetting prior controller ===========\n",
      "=================Resetting MPC=================\n",
      "=================Resetting MPC=================\n",
      "================== GP models loaded. =================\n"
     ]
    },
    {
     "name": "stderr",
     "output_type": "stream",
     "text": [
      "/home/mingxuan/.local/lib/python3.8/site-packages/gymnasium/spaces/box.py:130: UserWarning: \u001b[33mWARN: Box bound precision lowered by casting to float32\u001b[0m\n",
      "  gym.logger.warn(f\"Box bound precision lowered by casting to {self.dtype}\")\n"
     ]
    }
   ],
   "source": [
    "# Experiment setup.\n",
    "set_seed_from_config(config)\n",
    "set_device_from_config(config)\n",
    "\n",
    "# Define function to create task/env.\n",
    "env_func = partial(make, config.task, output_dir=config.output_dir, **config.task_config)\n",
    "# Create the controller/control_agent.\n",
    "# Note:\n",
    "# eval_env will take config.seed * 111 as its seed\n",
    "# env will take config.seed as its seed\n",
    "control_agent = make(config.algo,\n",
    "                        env_func,\n",
    "                        training=True,\n",
    "                        checkpoint_path=os.path.join(config.output_dir, 'model_latest.pt'),\n",
    "                        output_dir=config.output_dir,\n",
    "                        use_gpu=config.use_gpu,\n",
    "                        seed=config.seed,\n",
    "                        **config.algo_config)\n",
    "control_agent.reset()\n",
    "\n",
    "eval_env = env_func(seed=config.seed * 111)\n",
    "\n",
    "experiment = BaseExperiment(eval_env, control_agent)\n",
    "# if config.algo_config.gp_model_path is not None:\n",
    "#     control_agent.load(config.algo_config.gp_model_path)\n",
    "# else:\n",
    "#     experiment.launch_training()\n",
    "control_agent.load(config.algo_config.gp_model_path)\n",
    "# results, metrics = experiment.run_evaluation(n_episodes=config.n_episodes, n_steps=None, done_on_max_steps=True)\n",
    "# control_agent.close()\n",
    "\n",
    "\n"
   ]
  },
  {
   "cell_type": "code",
   "execution_count": 10,
   "metadata": {},
   "outputs": [
    {
     "name": "stdout",
     "output_type": "stream",
     "text": [
      "init_state: [ 0.   0.   1.2  0.  -0. ]\n",
      "ref.shape: (5, 26)\n",
      "=================Setting up acados optimizer=================\n",
      "=========== Resetting prior controller ===========\n",
      "=================Resetting MPC=================\n",
      "Computing initial guess for GP MPC.\n",
      "Setting up GP MPC with ipopt solver.\n",
      "\n",
      "******************************************************************************\n",
      "This program contains Ipopt, a library for large-scale nonlinear optimization.\n",
      " Ipopt is released as open source code under the Eclipse Public License (EPL).\n",
      "         For more information visit https://github.com/coin-or/Ipopt\n",
      "******************************************************************************\n",
      "\n",
      "This is Ipopt version 3.14.11, running with linear solver MUMPS 5.4.1.\n",
      "\n",
      "Number of nonzeros in equality constraint Jacobian...:     1005\n",
      "Number of nonzeros in inequality constraint Jacobian.:     1260\n",
      "Number of nonzeros in Lagrangian Hessian.............:     1065\n",
      "\n",
      "Total number of variables............................:      540\n",
      "                     variables with only lower bounds:        0\n",
      "                variables with lower and upper bounds:        0\n",
      "                     variables with only upper bounds:        0\n",
      "Total number of equality constraints.................:      130\n",
      "Total number of inequality constraints...............:      900\n",
      "        inequality constraints with only lower bounds:      360\n",
      "   inequality constraints with lower and upper bounds:      180\n",
      "        inequality constraints with only upper bounds:      360\n",
      "\n",
      "iter    objective    inf_pr   inf_du lg(mu)  ||d||  lg(rg) alpha_du alpha_pr  ls\n",
      "   0  1.1561617e+02 1.20e+00 1.04e+00  -1.0 0.00e+00    -  0.00e+00 0.00e+00   0\n",
      "   1  1.1362374e+02 1.18e+00 1.09e+00  -1.0 3.24e+00    -  9.38e-03 1.35e-02f  1\n",
      "   2  4.3791773e+01 5.09e-01 2.26e+01  -1.0 2.31e+00    -  2.66e-02 5.70e-01f  1\n",
      "   3  3.6308550e+01 7.47e-03 4.96e+01  -1.0 5.09e-01    -  6.01e-01 1.00e+00f  1\n",
      "   4  2.3682645e+01 4.53e-03 1.15e+01  -1.0 1.38e+00    -  5.87e-01 1.00e+00f  1\n",
      "   5  2.1662692e+01 2.26e-03 2.71e-01  -1.0 5.01e-01    -  9.91e-01 1.00e+00f  1\n",
      "   6  9.5908842e+00 5.51e-04 1.26e-02  -1.7 1.23e-01    -  1.00e+00 1.00e+00f  1\n",
      "   7  4.7097270e+00 6.96e-04 6.42e-03  -2.5 2.45e-01    -  1.00e+00 1.00e+00f  1\n",
      "   8  3.2262980e+00 1.08e-03 2.55e-03  -3.8 1.90e-01    -  1.00e+00 1.00e+00f  1\n",
      "   9  2.8567736e+00 3.47e-04 9.11e-04  -3.8 7.38e-02    -  1.00e+00 1.00e+00f  1\n",
      "iter    objective    inf_pr   inf_du lg(mu)  ||d||  lg(rg) alpha_du alpha_pr  ls\n",
      "  10  2.7656942e+00 7.94e-05 1.58e-04  -3.8 2.20e-02    -  1.00e+00 1.00e+00f  1\n",
      "  11  2.7277302e+00 4.61e-05 5.67e-03  -5.7 1.59e-02    -  9.92e-01 9.81e-01f  1\n",
      "  12  2.7179061e+00 1.18e-05 1.58e-05  -5.7 4.87e-03    -  1.00e+00 1.00e+00f  1\n",
      "  13  2.7155343e+00 1.30e-06 1.40e-06  -5.7 1.62e-03    -  1.00e+00 1.00e+00h  1\n",
      "  14  2.7148077e+00 2.49e-07 7.05e-03  -8.6 5.61e-04    -  1.00e+00 9.02e-01h  1\n",
      "  15  2.7146043e+00 5.17e-08 8.20e-03  -8.6 9.78e-05    -  1.00e+00 8.02e-01f  1\n",
      "  16  2.7145220e+00 1.50e-10 1.51e-10  -8.6 2.61e-05    -  1.00e+00 1.00e+00f  1\n",
      "  17  2.7145063e+00 9.40e-13 9.54e-13  -8.6 5.13e-06    -  1.00e+00 1.00e+00h  1\n",
      "  18  2.7145024e+00 8.84e-13 1.23e-12  -8.6 2.51e-06    -  1.00e+00 1.00e+00h  1\n",
      "  19  2.7145012e+00 7.54e-13 2.02e-12  -9.0 1.29e-06    -  1.00e+00 1.00e+00h  1\n",
      "\n",
      "Number of Iterations....: 19\n",
      "\n",
      "                                   (scaled)                 (unscaled)\n",
      "Objective...............:   2.7145012343083343e+00    2.7145012343083343e+00\n",
      "Dual infeasibility......:   2.0213830609350225e-12    2.0213830609350225e-12\n",
      "Constraint violation....:   7.5384143372048129e-13    7.5384143372048129e-13\n",
      "Variable bound violation:   0.0000000000000000e+00    0.0000000000000000e+00\n",
      "Complementarity.........:   4.2347609553868395e-09    4.2347609553868395e-09\n",
      "Overall NLP error.......:   4.2347609553868395e-09    4.2347609553868395e-09\n",
      "\n",
      "\n",
      "Number of objective function evaluations             = 20\n",
      "Number of objective gradient evaluations             = 20\n",
      "Number of equality constraint evaluations            = 20\n",
      "Number of inequality constraint evaluations          = 20\n",
      "Number of equality constraint Jacobian evaluations   = 20\n",
      "Number of inequality constraint Jacobian evaluations = 20\n",
      "Number of Lagrangian Hessian evaluations             = 19\n",
      "Total seconds in IPOPT                               = 0.471\n",
      "\n",
      "EXIT: Optimal Solution Found.\n",
      "      solver  :   t_proc      (avg)   t_wall      (avg)    n_eval\n",
      "       nlp_f  | 192.00us (  9.60us) 171.83us (  8.59us)        20\n",
      "       nlp_g  |  42.69ms (  2.13ms)  42.66ms (  2.13ms)        20\n",
      "  nlp_grad_f  | 239.00us ( 11.38us) 227.99us ( 10.86us)        21\n",
      "  nlp_hess_l  |  74.00ms (  3.89ms)  74.09ms (  3.90ms)        19\n",
      "   nlp_jac_g  | 275.56ms ( 13.12ms) 275.45ms ( 13.12ms)        21\n",
      "       total  | 475.90ms (475.90ms) 475.63ms (475.63ms)         1\n",
      "=============Warm-starting successes=============\n",
      "MPC _compute_initial_guess time:  8.955991983413696\n",
      "test_input.shape: (2, 25)\n"
     ]
    }
   ],
   "source": [
    "init_state = control_agent.env.reset()\n",
    "print('init_state:', init_state)\n",
    "ref = control_agent.get_references()\n",
    "print('ref.shape:', ref.shape)\n",
    "\n",
    "control_agent.reset()\n",
    "\n",
    "control_agent.compute_initial_guess(init_state, control_agent.get_references())\n",
    "ol_input = control_agent.u_guess\n",
    "ol_state = control_agent.x_guess\n",
    "print('test_input.shape:', ol_input.shape)\n",
    "# print('test_input:', test_input)\n",
    "\n",
    "\n"
   ]
  },
  {
   "cell_type": "code",
   "execution_count": 11,
   "metadata": {},
   "outputs": [
    {
     "name": "stdout",
     "output_type": "stream",
     "text": [
      "current obs: [ 0.   0.   1.2  0.  -0. ]\n",
      "acados warmstarting time: 0.0004665851593017578\n",
      "acados returned status 0. \n",
      "gpmpc acados action selection time: 0.0020017623901367188\n",
      "acados_input.shape: (2, 25)\n",
      "acados_state.shape: (5, 26)\n"
     ]
    }
   ],
   "source": [
    "\n",
    "control_agent.select_action(init_state)\n",
    "acados_input = control_agent.u_prev\n",
    "acados_state = control_agent.x_prev\n",
    "print('acados_input.shape:', acados_input.shape)\n",
    "print('acados_state.shape:', acados_state.shape)\n",
    "\n",
    "horizon = ol_input.shape[1]"
   ]
  },
  {
   "cell_type": "code",
   "execution_count": 12,
   "metadata": {},
   "outputs": [
    {
     "name": "stdout",
     "output_type": "stream",
     "text": [
      "obs_list.shape: (25, 5)\n",
      "obs_list_acados.shape: (25, 5)\n"
     ]
    }
   ],
   "source": [
    "# simulation with environment\n",
    "init_state = control_agent.env.reset()\n",
    "obs_list = []\n",
    "for idx in range(horizon):\n",
    "    obs, _, _, _ = control_agent.env.step(ol_input[:, idx])\n",
    "    obs_list.append(obs)\n",
    "obs_list = np.array(obs_list)\n",
    "print('obs_list.shape:', obs_list.shape)\n",
    "\n",
    "# simulation with acados input \n",
    "init_state = control_agent.env.reset()\n",
    "obs_list_acados = []\n",
    "x = acados_state\n",
    "for idx in range(horizon):\n",
    "    obs, _, _, _ = control_agent.env.step(acados_input[:, idx])\n",
    "    obs_list_acados.append(obs)\n",
    "obs_list_acados = np.array(obs_list_acados)\n",
    "print('obs_list_acados.shape:', obs_list_acados.shape)\n",
    "\n",
    "x = cs.SX.sym('x', 5)\n",
    "u = cs.SX.sym('u', 2)\n",
    "z = cs.vertcat(x, u)\n",
    "x_next = control_agent.prior_dynamics_func(x0 = x - control_agent.X_EQ, p = u - control_agent.U_EQ)['xf']\\\n",
    "            + control_agent.X_EQ + control_agent.Bd @ control_agent.gaussian_process.casadi_predict(z=z)['mean']\n",
    "pred_dyn_func = cs.Function('pred_dyn_func', [x, u], [x_next])\n",
    "\n",
    "\n",
    "\n",
    "# simulation with dynamics (ipopt input)\n",
    "obs_list_dyn = []\n",
    "x = obs_list[0]\n",
    "for idx in range(horizon):\n",
    "    u = ol_input[:, idx]\n",
    "    x = pred_dyn_func(x, u)\n",
    "    obs_list_dyn.append(x)\n",
    "obs_list_dyn = np.array(obs_list_dyn)\n",
    "\n",
    "# simulation with dynamics (acados input)\n",
    "obs_list_dyn_acados = []\n",
    "x = obs_list_acados[0]\n",
    "for idx in range(horizon):\n",
    "    u = acados_input[:, idx]\n",
    "    x = pred_dyn_func(x, u)\n",
    "    obs_list_dyn_acados.append(x)\n",
    "obs_list_dyn_acados = np.array(obs_list_dyn_acados)"
   ]
  },
  {
   "cell_type": "code",
   "execution_count": 13,
   "metadata": {},
   "outputs": [
    {
     "data": {
      "image/png": "[encoded data removed]",
      "text/plain": [
       "<Figure size 500x200 with 1 Axes>"
      ]
     },
     "metadata": {},
     "output_type": "display_data"
    }
   ],
   "source": [
    "# compare dynamics\n",
    "plt.figure(figsize=(5, 2))\n",
    "plt.plot(obs_list[0, 0], obs_list[0, 2], 'ro', label='start')\n",
    "plt.plot(ref[0, :], ref[2, :], label='ref', linestyle='--', color='g')\n",
    "plt.plot(obs_list[:, 0], obs_list[:, 2], label='env step with ipopt solution')\n",
    "plt.plot(obs_list_acados[:, 0], obs_list_acados[:, 2], label='env step with acados solution', color='black', linestyle='--')\n",
    "plt.xlabel('x')\n",
    "plt.ylabel('z')\n",
    "plt.legend()\n",
    "plt.show()"
   ]
  },
  {
   "cell_type": "code",
   "execution_count": 14,
   "metadata": {},
   "outputs": [
    {
     "data": {
      "text/plain": [
       "<matplotlib.legend.Legend at 0x7f2f920ddb80>"
      ]
     },
     "execution_count": 14,
     "metadata": {},
     "output_type": "execute_result"
    },
    {
     "data": {
      "image/png": "[encoded data removed]",
      "text/plain": [
       "<Figure size 500x200 with 1 Axes>"
      ]
     },
     "metadata": {},
     "output_type": "display_data"
    }
   ],
   "source": [
    "plt.figure(figsize=(5, 2))\n",
    "plt.plot(obs_list[0, 0], obs_list[0, 2], 'ro', label='start')\n",
    "plt.plot(obs_list_dyn[:, 0], obs_list_dyn[:, 2], label='gp + prior dynamics (ipopt)')\n",
    "plt.plot(obs_list_dyn_acados[:, 0], obs_list_dyn_acados[:, 2], label='gp + prior dynamics (acados)', color='black', linestyle='--')\n",
    "plt.plot(ref[0, :], ref[2, :], label='ref', linestyle='--', color='g')\n",
    "plt.xlabel('x')\n",
    "plt.ylabel('z')\n",
    "plt.legend()"
   ]
  },
  {
   "cell_type": "code",
   "execution_count": 15,
   "metadata": {},
   "outputs": [
    {
     "data": {
      "text/plain": [
       "<matplotlib.legend.Legend at 0x7f2f8045fbe0>"
      ]
     },
     "execution_count": 15,
     "metadata": {},
     "output_type": "execute_result"
    },
    {
     "data": {
      "image/png": "[encoded data removed]",
      "text/plain": [
       "<Figure size 500x200 with 1 Axes>"
      ]
     },
     "metadata": {},
     "output_type": "display_data"
    }
   ],
   "source": [
    "# compare open loop solutions\n",
    "plt.figure(figsize=(5, 2))\n",
    "plt.plot(ol_state[0, :], ol_state[2, :], label='open loop sol. (ipopt)')\n",
    "plt.plot(acados_state[0, :], acados_state[2, :], label='open loop sol. (acados)', color='black', linestyle='--')\n",
    "plt.plot(ref[0, :], ref[2, :], label='ref', linestyle='--', color='g')\n",
    "plt.legend()\n"
   ]
  },
  {
   "cell_type": "code",
   "execution_count": 16,
   "metadata": {},
   "outputs": [
    {
     "ename": "SyntaxError",
     "evalue": "invalid syntax (802097563.py, line 2)",
     "output_type": "error",
     "traceback": [
      "\u001b[0;36m  Cell \u001b[0;32mIn[16], line 2\u001b[0;36m\u001b[0m\n\u001b[0;31m    init_state = control_agent.env.reset(\u001b[0m\n\u001b[0m               ^\u001b[0m\n\u001b[0;31mSyntaxError\u001b[0m\u001b[0;31m:\u001b[0m invalid syntax\n"
     ]
    }
   ],
   "source": [
    "test_state = np.array([0., \n",
    "init_state = control_agent.env.reset(\n",
    "print('init_state:', init_state)\n",
    "\n",
    "control_agent.compute_initial_guess(init_state, control_agent.get_references())\n",
    "ol_input = control_agent.u_guess\n",
    "ol_state = control_agent.x_guess\n",
    "print('test_input.shape:', ol_input.shape)\n",
    "# print('test_input:', test_input)\n",
    "\n",
    "horizon = ol_input.shape[1]\n",
    "\n",
    "# simulation with environment\n",
    "obs_list = []\n",
    "for idx in range(horizon):\n",
    "    obs, _, _, _ = control_agent.env.step(ol_input[:, idx])\n",
    "    obs_list.append(obs)\n",
    "obs_list = np.array(obs_list)\n",
    "print('obs_list.shape:', obs_list.shape)\n",
    "\n",
    "# simulation with dynamics\n",
    "x = cs.SX.sym('x', 5)\n",
    "u = cs.SX.sym('u', 2)\n",
    "z = cs.vertcat(x, u)\n",
    "x_next = control_agent.prior_dynamics_func(x0 = x - control_agent.X_EQ, p = u - control_agent.U_EQ)['xf']\\\n",
    "            + control_agent.X_EQ + control_agent.Bd @ control_agent.gaussian_process.casadi_predict(z=z)['mean']\n",
    "pred_dyn_func = cs.Function('pred_dyn_func', [x, u], [x_next])\n",
    "\n",
    "obs_list_dyn = []\n",
    "x = obs_list[0]\n",
    "for idx in range(horizon):\n",
    "    u = ol_input[:, idx]\n",
    "    x = pred_dyn_func(x, u)\n",
    "    obs_list_dyn.append(x)\n",
    "obs_list_dyn = np.array(obs_list_dyn)\n",
    "\n",
    "plt.figure(figsize=(5, 2))\n",
    "plt.plot(obs_list[:, 0], obs_list[:, 2], label='env step')\n",
    "plt.plot(obs_list_dyn[:, 0], obs_list_dyn[:, 2], label='gp + prior dynamics')\n",
    "plt.plot(ol_state[0, :], ol_state[2, :], label='open loop sol.')\n",
    "plt.plot(obs_list[0, 0], obs_list[0, 2], 'ro', label='start')\n",
    "plt.xlabel('x')\n",
    "plt.ylabel('z')\n",
    "plt.legend()\n",
    "plt.show()\n"
   ]
  },
  {
   "cell_type": "code",
   "execution_count": null,
   "metadata": {},
   "outputs": [],
   "source": [
    "# plotting \n",
    "if config.task == Environment.QUADROTOR:\n",
    "    system = f'quadrotor_{str(config.task_config.quad_type)}D'\n",
    "    if config.task_config.quad_type == 4:\n",
    "        system = 'quadrotor_2D'\n",
    "else:\n",
    "    system = config.task\n",
    "\n",
    "if True:\n",
    "    if system == Environment.CARTPOLE:\n",
    "        graph1_1 = 2\n",
    "        graph1_2 = 3\n",
    "        graph3_1 = 0\n",
    "        graph3_2 = 1\n",
    "    elif system == 'quadrotor_2D':\n",
    "        graph1_1 = 4\n",
    "        graph1_2 = 5\n",
    "        graph3_1 = 0\n",
    "        graph3_2 = 2\n",
    "    elif system == 'quadrotor_3D':\n",
    "        graph1_1 = 6\n",
    "        graph1_2 = 9\n",
    "        graph3_1 = 0\n",
    "        graph3_2 = 4\n",
    "    \n",
    "    if config.task_config.quad_type != 4:\n",
    "        _, ax = plt.subplots()\n",
    "        ax.plot(results['obs'][0][:, graph1_1], results['obs'][0][:, graph1_2], 'r--', label='Agent Trajectory')\n",
    "        ax.scatter(results['obs'][0][0, graph1_1], results['obs'][0][0, graph1_2], color='g', marker='o', s=100, label='Initial State')\n",
    "        ax.set_xlabel(r'$\\theta$')\n",
    "        ax.set_ylabel(r'$\\dot{\\theta}$')\n",
    "        ax.set_box_aspect(0.5)\n",
    "        ax.legend(loc='upper right')\n",
    "        # save the plot\n",
    "        plt.savefig(os.path.join(config.output_dir, 'trajectory_theta_theta_dot.png'))\n",
    "\n",
    "        if config.task_config.task == Task.TRAJ_TRACKING and config.task == Environment.CARTPOLE:\n",
    "            _, ax2 = plt.subplots()\n",
    "            ax2.plot(np.linspace(0, 20, results['obs'][0].shape[0]), results['obs'][0][:, 0], 'r--', label='Agent Trajectory')\n",
    "            ax2.plot(np.linspace(0, 20, results['obs'][0].shape[0]), eval_env.X_GOAL[:, 0], 'b', label='Reference')\n",
    "            ax2.set_xlabel(r'Time')\n",
    "            ax2.set_ylabel(r'X')\n",
    "            ax2.set_box_aspect(0.5)\n",
    "            ax2.legend(loc='upper right')\n",
    "            # save the plot\n",
    "            plt.savefig(os.path.join(config.output_dir, 'trajectory_time_x.png'))\n",
    "        elif config.task == Environment.QUADROTOR:\n",
    "            _, ax2 = plt.subplots()\n",
    "            ax2.plot(results['obs'][0][:, graph3_1 + 1], results['obs'][0][:, graph3_2 + 1], 'r--', label='Agent Trajectory')\n",
    "            ax2.set_xlabel(r'x_dot')\n",
    "            ax2.set_ylabel(r'z_dot')\n",
    "            ax2.set_box_aspect(0.5)\n",
    "            ax2.legend(loc='upper right')\n",
    "            # save the plot\n",
    "            plt.savefig(os.path.join(config.output_dir, 'trajectory_x_dot_z_dot.png'))\n",
    "\n",
    "    _, ax3 = plt.subplots()\n",
    "    ax3.plot(results['obs'][0][:, graph3_1], results['obs'][0][:, graph3_2], 'r--', label='Agent Trajectory')\n",
    "    if config.task_config.task == Task.TRAJ_TRACKING and config.task == Environment.QUADROTOR:\n",
    "        ax3.plot(eval_env.X_GOAL[:, graph3_1], eval_env.X_GOAL[:, graph3_2], 'g--', label='Reference')\n",
    "    ax3.scatter(results['obs'][0][0, graph3_1], results['obs'][0][0, graph3_2], color='g', marker='o', s=100, label='Initial State')\n",
    "    ax3.set_xlabel(r'X')\n",
    "    if config.task == Environment.CARTPOLE:\n",
    "        ax3.set_ylabel(r'Vel')\n",
    "    elif config.task == Environment.QUADROTOR:\n",
    "        ax3.set_ylabel(r'Z')\n",
    "    ax3.set_box_aspect(0.5)\n",
    "    ax3.legend(loc='upper right')\n",
    "\n",
    "    plt.tight_layout()\n",
    "    # save the plot\n",
    "    plt.savefig(os.path.join(config.output_dir, 'trajectory_x.png'))\n",
    "\n",
    "# save to pickle\n",
    "with open(os.path.join(config.output_dir, 'metrics.pkl'), 'wb') as f:\n",
    "    import pickle\n",
    "    pickle.dump(metrics, f)\n"
   ]
  }
 ],
 "metadata": {
  "kernelspec": {
   "display_name": "Python 3",
   "language": "python",
   "name": "python3"
  },
  "language_info": {
   "codemirror_mode": {
    "name": "ipython",
    "version": 3
   },
   "file_extension": ".py",
   "mimetype": "text/x-python",
   "name": "python",
   "nbconvert_exporter": "python",
   "pygments_lexer": "ipython3",
   "version": "3.8.10"
  }
 },
 "nbformat": 4,
 "nbformat_minor": 2
}
